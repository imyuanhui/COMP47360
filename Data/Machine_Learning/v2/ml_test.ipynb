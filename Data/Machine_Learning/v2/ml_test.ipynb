{
 "cells": [
  {
   "cell_type": "code",
   "execution_count": 3,
   "id": "3d26dcaf",
   "metadata": {},
   "outputs": [
    {
     "name": "stdout",
     "output_type": "stream",
     "text": [
      " total_flow prediction = 3,777.4 people\n"
     ]
    }
   ],
   "source": [
    "import joblib, json, pandas as pd, numpy as np\n",
    "from pathlib import Path\n",
    "\n",
    "# ---------- (1) input model and features ----------\n",
    "model       = joblib.load('rf_model_0621.pkl')\n",
    "features_r  = json.loads(Path('features_r.json').read_text())\n",
    "\n",
    "# ---------- (2)  lookup  ----------\n",
    "ZONE   = {z['zone_id']: z\n",
    "          for z in json.loads(Path('zone_defaults.json').read_text())}\n",
    "GLOBAL = json.loads(Path('global_defaults.json').read_text())\n",
    "\n",
    "# ---------- (3) real-time data example ----------\n",
    "request_json = {\n",
    "    \"zone_id\": 33,\n",
    "    \"hour\": 18,\n",
    "    \"weekday\": 4,\n",
    "    \"month\": 6,\n",
    "    \"day\": 27,\n",
    "    \"is_weekend\": 0,\n",
    "    \"temp\": 29.4,\n",
    "    \"prcp\": 0.0,\n",
    "    \"interest\": 0.72\n",
    "    \n",
    "}\n",
    "\n",
    "# ---------- (4) filled in fixed data ----------\n",
    "def build_payload(req):\n",
    "    z = req['zone_id']\n",
    "    payload = req.copy()\n",
    "    payload.update(ZONE.get(z, {}))\n",
    "    for k, v in GLOBAL.items():\n",
    "        payload.setdefault(k, v)\n",
    "    return payload\n",
    "\n",
    "payload = build_payload(request_json)\n",
    "\n",
    "# ---------- (5) one-hot & align ----------\n",
    "def onehot_align(df_raw, feature_list):\n",
    "    df = pd.get_dummies(df_raw, prefix_sep='_')\n",
    "\n",
    "    for col in feature_list:\n",
    "        if col not in df.columns:\n",
    "            df[col] = 0\n",
    "    return df[feature_list]  \n",
    "\n",
    "X = onehot_align(pd.DataFrame([payload]), features_r)\n",
    "\n",
    "# ---------- (6) predict  ----------\n",
    "y_pred_log = model.predict(X)[0]\n",
    "y_pred     = np.expm1(y_pred_log)\n",
    "\n",
    "print(f\" total_flow prediction = {y_pred:,.1f} people\")\n"
   ]
  },
  {
   "cell_type": "code",
   "execution_count": null,
   "id": "a8852c36",
   "metadata": {},
   "outputs": [],
   "source": []
  }
 ],
 "metadata": {
  "kernelspec": {
   "display_name": "Python (comp47350py311)",
   "language": "python",
   "name": "comp47350py311"
  },
  "language_info": {
   "codemirror_mode": {
    "name": "ipython",
    "version": 3
   },
   "file_extension": ".py",
   "mimetype": "text/x-python",
   "name": "python",
   "nbconvert_exporter": "python",
   "pygments_lexer": "ipython3",
   "version": "3.11.11"
  }
 },
 "nbformat": 4,
 "nbformat_minor": 5
}
