{
 "cells": [
  {
   "cell_type": "code",
   "execution_count": 2,
   "id": "8d041d2b",
   "metadata": {},
   "outputs": [
    {
     "name": "stderr",
     "output_type": "stream",
     "text": [
      "c:\\Users\\mm921\\anaconda3\\envs\\comp47360\\Lib\\site-packages\\pytrends\\request.py:260: FutureWarning: Downcasting object dtype arrays on .fillna, .ffill, .bfill is deprecated and will change in a future version. Call result.infer_objects(copy=False) instead. To opt-in to the future behavior, set `pd.set_option('future.no_silent_downcasting', True)`\n",
      "  df = df.fillna(False)\n",
      "c:\\Users\\mm921\\anaconda3\\envs\\comp47360\\Lib\\site-packages\\pytrends\\request.py:260: FutureWarning: Downcasting object dtype arrays on .fillna, .ffill, .bfill is deprecated and will change in a future version. Call result.infer_objects(copy=False) instead. To opt-in to the future behavior, set `pd.set_option('future.no_silent_downcasting', True)`\n",
      "  df = df.fillna(False)\n",
      "c:\\Users\\mm921\\anaconda3\\envs\\comp47360\\Lib\\site-packages\\pytrends\\request.py:260: FutureWarning: Downcasting object dtype arrays on .fillna, .ffill, .bfill is deprecated and will change in a future version. Call result.infer_objects(copy=False) instead. To opt-in to the future behavior, set `pd.set_option('future.no_silent_downcasting', True)`\n",
      "  df = df.fillna(False)\n",
      "c:\\Users\\mm921\\anaconda3\\envs\\comp47360\\Lib\\site-packages\\pytrends\\request.py:260: FutureWarning: Downcasting object dtype arrays on .fillna, .ffill, .bfill is deprecated and will change in a future version. Call result.infer_objects(copy=False) instead. To opt-in to the future behavior, set `pd.set_option('future.no_silent_downcasting', True)`\n",
      "  df = df.fillna(False)\n",
      "c:\\Users\\mm921\\anaconda3\\envs\\comp47360\\Lib\\site-packages\\pytrends\\request.py:260: FutureWarning: Downcasting object dtype arrays on .fillna, .ffill, .bfill is deprecated and will change in a future version. Call result.infer_objects(copy=False) instead. To opt-in to the future behavior, set `pd.set_option('future.no_silent_downcasting', True)`\n",
      "  df = df.fillna(False)\n",
      "c:\\Users\\mm921\\anaconda3\\envs\\comp47360\\Lib\\site-packages\\pytrends\\request.py:260: FutureWarning: Downcasting object dtype arrays on .fillna, .ffill, .bfill is deprecated and will change in a future version. Call result.infer_objects(copy=False) instead. To opt-in to the future behavior, set `pd.set_option('future.no_silent_downcasting', True)`\n",
      "  df = df.fillna(False)\n",
      "c:\\Users\\mm921\\anaconda3\\envs\\comp47360\\Lib\\site-packages\\pytrends\\request.py:260: FutureWarning: Downcasting object dtype arrays on .fillna, .ffill, .bfill is deprecated and will change in a future version. Call result.infer_objects(copy=False) instead. To opt-in to the future behavior, set `pd.set_option('future.no_silent_downcasting', True)`\n",
      "  df = df.fillna(False)\n",
      "c:\\Users\\mm921\\anaconda3\\envs\\comp47360\\Lib\\site-packages\\pytrends\\request.py:260: FutureWarning: Downcasting object dtype arrays on .fillna, .ffill, .bfill is deprecated and will change in a future version. Call result.infer_objects(copy=False) instead. To opt-in to the future behavior, set `pd.set_option('future.no_silent_downcasting', True)`\n",
      "  df = df.fillna(False)\n",
      "c:\\Users\\mm921\\anaconda3\\envs\\comp47360\\Lib\\site-packages\\pytrends\\request.py:260: FutureWarning: Downcasting object dtype arrays on .fillna, .ffill, .bfill is deprecated and will change in a future version. Call result.infer_objects(copy=False) instead. To opt-in to the future behavior, set `pd.set_option('future.no_silent_downcasting', True)`\n",
      "  df = df.fillna(False)\n",
      "c:\\Users\\mm921\\anaconda3\\envs\\comp47360\\Lib\\site-packages\\pytrends\\request.py:260: FutureWarning: Downcasting object dtype arrays on .fillna, .ffill, .bfill is deprecated and will change in a future version. Call result.infer_objects(copy=False) instead. To opt-in to the future behavior, set `pd.set_option('future.no_silent_downcasting', True)`\n",
      "  df = df.fillna(False)\n",
      "c:\\Users\\mm921\\anaconda3\\envs\\comp47360\\Lib\\site-packages\\pytrends\\request.py:260: FutureWarning: Downcasting object dtype arrays on .fillna, .ffill, .bfill is deprecated and will change in a future version. Call result.infer_objects(copy=False) instead. To opt-in to the future behavior, set `pd.set_option('future.no_silent_downcasting', True)`\n",
      "  df = df.fillna(False)\n",
      "c:\\Users\\mm921\\anaconda3\\envs\\comp47360\\Lib\\site-packages\\pytrends\\request.py:260: FutureWarning: Downcasting object dtype arrays on .fillna, .ffill, .bfill is deprecated and will change in a future version. Call result.infer_objects(copy=False) instead. To opt-in to the future behavior, set `pd.set_option('future.no_silent_downcasting', True)`\n",
      "  df = df.fillna(False)\n",
      "c:\\Users\\mm921\\anaconda3\\envs\\comp47360\\Lib\\site-packages\\pytrends\\request.py:260: FutureWarning: Downcasting object dtype arrays on .fillna, .ffill, .bfill is deprecated and will change in a future version. Call result.infer_objects(copy=False) instead. To opt-in to the future behavior, set `pd.set_option('future.no_silent_downcasting', True)`\n",
      "  df = df.fillna(False)\n"
     ]
    },
    {
     "name": "stdout",
     "output_type": "stream",
     "text": [
      "Done. Total records: 2327\n"
     ]
    }
   ],
   "source": [
    "from pytrends.request import TrendReq\n",
    "import pandas as pd\n",
    "from datetime import datetime\n",
    "import time\n",
    "\n",
    "# 初始化 pytrends\n",
    "pytrends = TrendReq(hl='en-US', tz=360)\n",
    "\n",
    "# 關鍵字（zone 對應熱搜關鍵字）\n",
    "zone_keywords = [\n",
    "    'Times Square', 'Central Park', 'Empire State Building',\n",
    "    'Brooklyn Bridge', 'Wall Street', 'Fifth Avenue',\n",
    "    'Broadway', 'Soho NYC', 'Chinatown NYC', 'Harlem',\n",
    "    'Chelsea NYC', 'Battery Park', 'Union Square NYC'\n",
    "]\n",
    "\n",
    "# 建立 zone_id 對應\n",
    "zone_map = {kw: idx for idx, kw in enumerate(zone_keywords)}\n",
    "\n",
    "# 設定地點與時間範圍（過去 1 天，每小時）\n",
    "geo = 'US-NY-501'         # NYC 區域\n",
    "timeframe = 'now 1-d'     # 即時：過去 1 天\n",
    "\n",
    "records = []\n",
    "\n",
    "# 逐一關鍵字查詢\n",
    "for kw in zone_keywords:\n",
    "    try:\n",
    "        pytrends.build_payload([kw], geo=geo, timeframe=timeframe)\n",
    "        df_kw = pytrends.interest_over_time().reset_index()\n",
    "\n",
    "        for _, row in df_kw.iterrows():\n",
    "            if 'isPartial' in row and row['isPartial']:\n",
    "                continue\n",
    "            records.append({\n",
    "                'datetime': row['date'],\n",
    "                'date': row['date'].date(),\n",
    "                'zone_id': zone_map[kw],\n",
    "                'keyword': kw,\n",
    "                'interest': row[kw]\n",
    "            })\n",
    "\n",
    "        time.sleep(1)\n",
    "    except Exception as e:\n",
    "        print(f\"[ERROR] {kw}: {e}\")\n",
    "\n",
    "\n",
    "df_all = pd.DataFrame(records)\n",
    "timestamp = datetime.now().strftime(\"%Y%m%d_%H%M\")\n",
    "df_all.to_csv(f\"google_trends_interest_{timestamp}.csv\", index=False)\n",
    "\n",
    "print(f\"Done. Total records: {len(df_all)}\")\n"
   ]
  },
  {
   "cell_type": "code",
   "execution_count": null,
   "id": "20c8b9b4",
   "metadata": {},
   "outputs": [],
   "source": []
  }
 ],
 "metadata": {
  "kernelspec": {
   "display_name": "comp47360",
   "language": "python",
   "name": "python3"
  },
  "language_info": {
   "codemirror_mode": {
    "name": "ipython",
    "version": 3
   },
   "file_extension": ".py",
   "mimetype": "text/x-python",
   "name": "python",
   "nbconvert_exporter": "python",
   "pygments_lexer": "ipython3",
   "version": "3.12.9"
  }
 },
 "nbformat": 4,
 "nbformat_minor": 5
}
